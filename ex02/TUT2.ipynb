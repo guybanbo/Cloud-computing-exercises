{
  "nbformat": 4,
  "nbformat_minor": 0,
  "metadata": {
    "colab": {
      "provenance": [],
      "include_colab_link": true
    },
    "kernelspec": {
      "name": "python3",
      "display_name": "Python 3"
    },
    "language_info": {
      "name": "python"
    },
    "widgets": {
      "application/vnd.jupyter.widget-state+json": {
        "11f1048e42f940bda0dc2f051e77662f": {
          "model_module": "@jupyter-widgets/controls",
          "model_name": "DropdownModel",
          "model_module_version": "1.5.0",
          "state": {
            "_dom_classes": [],
            "_model_module": "@jupyter-widgets/controls",
            "_model_module_version": "1.5.0",
            "_model_name": "DropdownModel",
            "_options_labels": [
              "Yuval Hilai",
              "Matan Nachmuha",
              "Guy Banbo",
              "Elior Malik",
              "Ofir Shahaf",
              "Julia Shbat"
            ],
            "_view_count": null,
            "_view_module": "@jupyter-widgets/controls",
            "_view_module_version": "1.5.0",
            "_view_name": "DropdownView",
            "description": "Select Student:",
            "description_tooltip": null,
            "disabled": false,
            "index": 0,
            "layout": "IPY_MODEL_899e023130be4f84995ec5e76d3513b8",
            "style": "IPY_MODEL_b9533d32229645dba1764d8461a1cc94"
          }
        },
        "899e023130be4f84995ec5e76d3513b8": {
          "model_module": "@jupyter-widgets/base",
          "model_name": "LayoutModel",
          "model_module_version": "1.2.0",
          "state": {
            "_model_module": "@jupyter-widgets/base",
            "_model_module_version": "1.2.0",
            "_model_name": "LayoutModel",
            "_view_count": null,
            "_view_module": "@jupyter-widgets/base",
            "_view_module_version": "1.2.0",
            "_view_name": "LayoutView",
            "align_content": null,
            "align_items": null,
            "align_self": null,
            "border": null,
            "bottom": null,
            "display": null,
            "flex": null,
            "flex_flow": null,
            "grid_area": null,
            "grid_auto_columns": null,
            "grid_auto_flow": null,
            "grid_auto_rows": null,
            "grid_column": null,
            "grid_gap": null,
            "grid_row": null,
            "grid_template_areas": null,
            "grid_template_columns": null,
            "grid_template_rows": null,
            "height": null,
            "justify_content": null,
            "justify_items": null,
            "left": null,
            "margin": null,
            "max_height": null,
            "max_width": null,
            "min_height": null,
            "min_width": null,
            "object_fit": null,
            "object_position": null,
            "order": null,
            "overflow": null,
            "overflow_x": null,
            "overflow_y": null,
            "padding": null,
            "right": null,
            "top": null,
            "visibility": null,
            "width": null
          }
        },
        "b9533d32229645dba1764d8461a1cc94": {
          "model_module": "@jupyter-widgets/controls",
          "model_name": "DescriptionStyleModel",
          "model_module_version": "1.5.0",
          "state": {
            "_model_module": "@jupyter-widgets/controls",
            "_model_module_version": "1.5.0",
            "_model_name": "DescriptionStyleModel",
            "_view_count": null,
            "_view_module": "@jupyter-widgets/base",
            "_view_module_version": "1.2.0",
            "_view_name": "StyleView",
            "description_width": "initial"
          }
        },
        "8d62156cc6e44d24a9274ef8049e83d6": {
          "model_module": "@jupyter-widgets/controls",
          "model_name": "TextareaModel",
          "model_module_version": "1.5.0",
          "state": {
            "_dom_classes": [],
            "_model_module": "@jupyter-widgets/controls",
            "_model_module_version": "1.5.0",
            "_model_name": "TextareaModel",
            "_view_count": null,
            "_view_module": "@jupyter-widgets/controls",
            "_view_module_version": "1.5.0",
            "_view_name": "TextareaView",
            "continuous_update": true,
            "description": "Student Information:",
            "description_tooltip": null,
            "disabled": true,
            "layout": "IPY_MODEL_2399f629677740a69bc42d4ec29df129",
            "placeholder": "​",
            "rows": null,
            "style": "IPY_MODEL_65fe9b9557d94e88b950801fb9d620d0",
            "value": "Name: Yuval Hilai\nEmail: Yuval.Hilai@e.braude.ac.il\nCourses: Comp Anan Kriya Phys\nDepartment: Software Engineering\nLink: google.com\nFavorite Show: Sport5"
          }
        },
        "2399f629677740a69bc42d4ec29df129": {
          "model_module": "@jupyter-widgets/base",
          "model_name": "LayoutModel",
          "model_module_version": "1.2.0",
          "state": {
            "_model_module": "@jupyter-widgets/base",
            "_model_module_version": "1.2.0",
            "_model_name": "LayoutModel",
            "_view_count": null,
            "_view_module": "@jupyter-widgets/base",
            "_view_module_version": "1.2.0",
            "_view_name": "LayoutView",
            "align_content": null,
            "align_items": null,
            "align_self": null,
            "border": null,
            "bottom": null,
            "display": null,
            "flex": null,
            "flex_flow": null,
            "grid_area": null,
            "grid_auto_columns": null,
            "grid_auto_flow": null,
            "grid_auto_rows": null,
            "grid_column": null,
            "grid_gap": null,
            "grid_row": null,
            "grid_template_areas": null,
            "grid_template_columns": null,
            "grid_template_rows": null,
            "height": null,
            "justify_content": null,
            "justify_items": null,
            "left": null,
            "margin": null,
            "max_height": null,
            "max_width": null,
            "min_height": null,
            "min_width": null,
            "object_fit": null,
            "object_position": null,
            "order": null,
            "overflow": null,
            "overflow_x": null,
            "overflow_y": null,
            "padding": null,
            "right": null,
            "top": null,
            "visibility": null,
            "width": null
          }
        },
        "65fe9b9557d94e88b950801fb9d620d0": {
          "model_module": "@jupyter-widgets/controls",
          "model_name": "DescriptionStyleModel",
          "model_module_version": "1.5.0",
          "state": {
            "_model_module": "@jupyter-widgets/controls",
            "_model_module_version": "1.5.0",
            "_model_name": "DescriptionStyleModel",
            "_view_count": null,
            "_view_module": "@jupyter-widgets/base",
            "_view_module_version": "1.2.0",
            "_view_name": "StyleView",
            "description_width": "initial"
          }
        },
        "43eb59748a4f434a887a0354b4bcf61e": {
          "model_module": "@jupyter-widgets/controls",
          "model_name": "TextModel",
          "model_module_version": "1.5.0",
          "state": {
            "_dom_classes": [],
            "_model_module": "@jupyter-widgets/controls",
            "_model_module_version": "1.5.0",
            "_model_name": "TextModel",
            "_view_count": null,
            "_view_module": "@jupyter-widgets/controls",
            "_view_module_version": "1.5.0",
            "_view_name": "TextView",
            "continuous_update": true,
            "description": "Favorite Show:",
            "description_tooltip": null,
            "disabled": false,
            "layout": "IPY_MODEL_cfdb2ae47ace4b23b3c16615170f4757",
            "placeholder": "​",
            "style": "IPY_MODEL_1078ff9993d24c6eb9a22577c252e8c6",
            "value": ""
          }
        },
        "cfdb2ae47ace4b23b3c16615170f4757": {
          "model_module": "@jupyter-widgets/base",
          "model_name": "LayoutModel",
          "model_module_version": "1.2.0",
          "state": {
            "_model_module": "@jupyter-widgets/base",
            "_model_module_version": "1.2.0",
            "_model_name": "LayoutModel",
            "_view_count": null,
            "_view_module": "@jupyter-widgets/base",
            "_view_module_version": "1.2.0",
            "_view_name": "LayoutView",
            "align_content": null,
            "align_items": null,
            "align_self": null,
            "border": null,
            "bottom": null,
            "display": null,
            "flex": null,
            "flex_flow": null,
            "grid_area": null,
            "grid_auto_columns": null,
            "grid_auto_flow": null,
            "grid_auto_rows": null,
            "grid_column": null,
            "grid_gap": null,
            "grid_row": null,
            "grid_template_areas": null,
            "grid_template_columns": null,
            "grid_template_rows": null,
            "height": null,
            "justify_content": null,
            "justify_items": null,
            "left": null,
            "margin": null,
            "max_height": null,
            "max_width": null,
            "min_height": null,
            "min_width": null,
            "object_fit": null,
            "object_position": null,
            "order": null,
            "overflow": null,
            "overflow_x": null,
            "overflow_y": null,
            "padding": null,
            "right": null,
            "top": null,
            "visibility": null,
            "width": null
          }
        },
        "1078ff9993d24c6eb9a22577c252e8c6": {
          "model_module": "@jupyter-widgets/controls",
          "model_name": "DescriptionStyleModel",
          "model_module_version": "1.5.0",
          "state": {
            "_model_module": "@jupyter-widgets/controls",
            "_model_module_version": "1.5.0",
            "_model_name": "DescriptionStyleModel",
            "_view_count": null,
            "_view_module": "@jupyter-widgets/base",
            "_view_module_version": "1.2.0",
            "_view_name": "StyleView",
            "description_width": "initial"
          }
        },
        "323194da9fc54b298cf1cd4c83d1f966": {
          "model_module": "@jupyter-widgets/controls",
          "model_name": "ButtonModel",
          "model_module_version": "1.5.0",
          "state": {
            "_dom_classes": [],
            "_model_module": "@jupyter-widgets/controls",
            "_model_module_version": "1.5.0",
            "_model_name": "ButtonModel",
            "_view_count": null,
            "_view_module": "@jupyter-widgets/controls",
            "_view_module_version": "1.5.0",
            "_view_name": "ButtonView",
            "button_style": "",
            "description": "Update Data",
            "disabled": false,
            "icon": "",
            "layout": "IPY_MODEL_c2ff4b244d4b42ee9b4c1b6cfcb569ab",
            "style": "IPY_MODEL_78033ebd43564fdcaa741a3a1113e0bc",
            "tooltip": ""
          }
        },
        "c2ff4b244d4b42ee9b4c1b6cfcb569ab": {
          "model_module": "@jupyter-widgets/base",
          "model_name": "LayoutModel",
          "model_module_version": "1.2.0",
          "state": {
            "_model_module": "@jupyter-widgets/base",
            "_model_module_version": "1.2.0",
            "_model_name": "LayoutModel",
            "_view_count": null,
            "_view_module": "@jupyter-widgets/base",
            "_view_module_version": "1.2.0",
            "_view_name": "LayoutView",
            "align_content": null,
            "align_items": null,
            "align_self": null,
            "border": null,
            "bottom": null,
            "display": null,
            "flex": null,
            "flex_flow": null,
            "grid_area": null,
            "grid_auto_columns": null,
            "grid_auto_flow": null,
            "grid_auto_rows": null,
            "grid_column": null,
            "grid_gap": null,
            "grid_row": null,
            "grid_template_areas": null,
            "grid_template_columns": null,
            "grid_template_rows": null,
            "height": null,
            "justify_content": null,
            "justify_items": null,
            "left": null,
            "margin": null,
            "max_height": null,
            "max_width": null,
            "min_height": null,
            "min_width": null,
            "object_fit": null,
            "object_position": null,
            "order": null,
            "overflow": null,
            "overflow_x": null,
            "overflow_y": null,
            "padding": null,
            "right": null,
            "top": null,
            "visibility": null,
            "width": null
          }
        },
        "78033ebd43564fdcaa741a3a1113e0bc": {
          "model_module": "@jupyter-widgets/controls",
          "model_name": "ButtonStyleModel",
          "model_module_version": "1.5.0",
          "state": {
            "_model_module": "@jupyter-widgets/controls",
            "_model_module_version": "1.5.0",
            "_model_name": "ButtonStyleModel",
            "_view_count": null,
            "_view_module": "@jupyter-widgets/base",
            "_view_module_version": "1.2.0",
            "_view_name": "StyleView",
            "button_color": null,
            "font_weight": ""
          }
        }
      }
    }
  },
  "cells": [
    {
      "cell_type": "markdown",
      "metadata": {
        "id": "view-in-github",
        "colab_type": "text"
      },
      "source": [
        "<a href=\"https://colab.research.google.com/github/guybanbo/Cloud-computing-exercises/blob/main/ex02/TUT2.ipynb\" target=\"_parent\"><img src=\"https://colab.research.google.com/assets/colab-badge.svg\" alt=\"Open In Colab\"/></a>"
      ]
    },
    {
      "cell_type": "code",
      "execution_count": 2,
      "metadata": {
        "colab": {
          "base_uri": "https://localhost:8080/",
          "height": 171,
          "referenced_widgets": [
            "11f1048e42f940bda0dc2f051e77662f",
            "899e023130be4f84995ec5e76d3513b8",
            "b9533d32229645dba1764d8461a1cc94",
            "8d62156cc6e44d24a9274ef8049e83d6",
            "2399f629677740a69bc42d4ec29df129",
            "65fe9b9557d94e88b950801fb9d620d0",
            "43eb59748a4f434a887a0354b4bcf61e",
            "cfdb2ae47ace4b23b3c16615170f4757",
            "1078ff9993d24c6eb9a22577c252e8c6",
            "323194da9fc54b298cf1cd4c83d1f966",
            "c2ff4b244d4b42ee9b4c1b6cfcb569ab",
            "78033ebd43564fdcaa741a3a1113e0bc"
          ]
        },
        "id": "DWmx92L7lqhX",
        "outputId": "ef73f2a0-2b14-4466-e2d4-11010a1f2f35"
      },
      "outputs": [
        {
          "output_type": "stream",
          "name": "stdout",
          "text": [
            "Mounted at /content/drive\n"
          ]
        },
        {
          "output_type": "display_data",
          "data": {
            "text/plain": [
              "Dropdown(description='Select Student:', options=('Yuval Hilai', 'Matan Nachmuha', 'Guy Banbo', 'Elior Malik', …"
            ],
            "application/vnd.jupyter.widget-view+json": {
              "version_major": 2,
              "version_minor": 0,
              "model_id": "11f1048e42f940bda0dc2f051e77662f"
            }
          },
          "metadata": {}
        },
        {
          "output_type": "display_data",
          "data": {
            "text/plain": [
              "Textarea(value='', description='Student Information:', disabled=True, style=DescriptionStyle(description_width…"
            ],
            "application/vnd.jupyter.widget-view+json": {
              "version_major": 2,
              "version_minor": 0,
              "model_id": "8d62156cc6e44d24a9274ef8049e83d6"
            }
          },
          "metadata": {}
        },
        {
          "output_type": "display_data",
          "data": {
            "text/plain": [
              "Text(value='', description='Favorite Show:', style=DescriptionStyle(description_width='initial'))"
            ],
            "application/vnd.jupyter.widget-view+json": {
              "version_major": 2,
              "version_minor": 0,
              "model_id": "43eb59748a4f434a887a0354b4bcf61e"
            }
          },
          "metadata": {}
        },
        {
          "output_type": "display_data",
          "data": {
            "text/plain": [
              "Button(description='Update Data', style=ButtonStyle())"
            ],
            "application/vnd.jupyter.widget-view+json": {
              "version_major": 2,
              "version_minor": 0,
              "model_id": "323194da9fc54b298cf1cd4c83d1f966"
            }
          },
          "metadata": {}
        }
      ],
      "source": [
        "from google.colab import drive\n",
        "import json\n",
        "import ipywidgets as widgets\n",
        "from IPython.display import display\n",
        "\n",
        "# Mount Google Drive to access files\n",
        "drive.mount('/content/drive', force_remount=True)\n",
        "\n",
        "# Specify the correct file path on Google Drive\n",
        "file_path = '/content/drive/MyDrive/ex01/students.json'\n",
        "\n",
        "# Function to load data from the JSON file\n",
        "def load_data(file_path):\n",
        "    try:\n",
        "        with open(file_path, 'r') as json_file:\n",
        "            return json.load(json_file)\n",
        "    except FileNotFoundError:\n",
        "        print(f\"File not found at: {file_path}. Please check the file path.\")\n",
        "        return None\n",
        "\n",
        "# Load data\n",
        "students_data = load_data(file_path)\n",
        "\n",
        "# Check if data is loaded successfully before proceeding\n",
        "if students_data:\n",
        "    # Create a dropdown menu for student names\n",
        "    name_dropdown = widgets.Dropdown(\n",
        "        options=[student['Name'] for student in students_data],\n",
        "        description='Select Student:',\n",
        "        style={'description_width': 'initial'}\n",
        "    )\n",
        "\n",
        "    # Create a text area for displaying information\n",
        "    info_text = widgets.Textarea(\n",
        "        value='',\n",
        "        description='Student Information:',\n",
        "        disabled=True,\n",
        "        style={'description_width': 'initial'}\n",
        "    )\n",
        "\n",
        "    # Create an input field for changing the favorite show\n",
        "    favorite_show_input = widgets.Text(\n",
        "        value='',\n",
        "        description='Favorite Show:',\n",
        "        style={'description_width': 'initial'}\n",
        "    )\n",
        "\n",
        "    # Create an update button\n",
        "    update_button = widgets.Button(description='Update Data')\n",
        "\n",
        "    # Function to update data when the button is pressed\n",
        "    def update_data(button):\n",
        "        selected_name = name_dropdown.value\n",
        "        new_favorite_show = favorite_show_input.value\n",
        "\n",
        "        # Update the 'Favorite Show' field directly in the loaded data\n",
        "        for student in students_data:\n",
        "            if student['Name'] == selected_name:\n",
        "                student['Favorite Show'] = new_favorite_show\n",
        "                break\n",
        "\n",
        "        # Save the updated data to the JSON file\n",
        "        with open(file_path, 'w') as json_file:\n",
        "            json.dump(students_data, json_file)\n",
        "\n",
        "    # Assign the function to the button's on_click event\n",
        "    update_button.on_click(update_data)\n",
        "\n",
        "    # Function to update information when a student is selected\n",
        "    def update_info(change):\n",
        "        selected_name = change['new']\n",
        "        for student in students_data:\n",
        "            if student['Name'] == selected_name:\n",
        "                info_text.value = f\"Name: {student['Name']}\\nEmail: {student['Email']}\\nCourses: {student['Courses']}\\nDepartment: {student['Department']}\\nLink: {student['Link']}\\nFavorite Show: {student['Favorite Show']}\"\n",
        "                break\n",
        "\n",
        "    # Assign the function to the dropdown's observe event\n",
        "    name_dropdown.observe(update_info, names='value')\n",
        "\n",
        "    # Display the widgets\n",
        "    display(name_dropdown)\n",
        "    display(info_text)\n",
        "    display(favorite_show_input)\n",
        "    display(update_button)\n"
      ]
    }
  ]
}