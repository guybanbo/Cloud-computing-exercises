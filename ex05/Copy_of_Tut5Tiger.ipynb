{
  "nbformat": 4,
  "nbformat_minor": 0,
  "metadata": {
    "colab": {
      "provenance": [],
      "include_colab_link": true
    },
    "kernelspec": {
      "name": "python3",
      "display_name": "Python 3"
    },
    "language_info": {
      "name": "python"
    }
  },
  "cells": [
    {
      "cell_type": "markdown",
      "metadata": {
        "id": "view-in-github",
        "colab_type": "text"
      },
      "source": [
        "<a href=\"https://colab.research.google.com/github/guybanbo/Cloud-computing-exercises/blob/main/ex05/Copy_of_Tut5Tiger.ipynb\" target=\"_parent\"><img src=\"https://colab.research.google.com/assets/colab-badge.svg\" alt=\"Open In Colab\"/></a>"
      ]
    },
    {
      "cell_type": "code",
      "execution_count": 5,
      "metadata": {
        "colab": {
          "base_uri": "https://localhost:8080/"
        },
        "id": "lp8z3PRRr3L_",
        "outputId": "5537c020-ce37-4645-ec22-ca7724c355b3"
      },
      "outputs": [
        {
          "output_type": "stream",
          "name": "stdout",
          "text": [
            "{'-NqarDUZn0GxkBpt0fCh': {'courses': ['Comp Anan Kriya Phys', 'Software Engineering'], 'email': 'Yuval.Hilai@e.braude.ac.il', 'favorite_tv': 'Sport 5', 'last_name': 'Hilai', 'name': 'Yuval'}, '-NqarDYv_MAyuG0yfQwn': {'courses': ['Comp Anan Kriya Phys Web Bina', 'Software Engineering'], 'email': 'Matan.Nachmuha@e.braude.ac.il', 'favorite_tv': 'reshet', 'last_name': 'Nachmuha', 'name': 'Matan'}, '-NqarDcOH4aOVEn8WvxF': {'courses': ['Comp Anan Bina crypto', 'Software Engineering'], 'email': 'Gay.Banbo@e.braude.ac.il', 'favorite_tv': 'keshet', 'last_name': 'Banbo', 'name': 'Guy'}, '-NqarDgmKZRX46dPguaD': {'courses': ['Comp Anan Kriya Phys Web Bina', 'Software Engineering'], 'email': 'elior.malik@e.braude.ac.il', 'favorite_tv': 'sport 5', 'last_name': 'Malik', 'name': 'Elior'}, '-NqarDlBkM629haHf4R4': {'courses': ['Comp Anan Kriya Phys Web Bina', 'Software Engineering'], 'email': 'ofir.shahaf@e.braude.ac.il', 'favorite_tv': 'kan', 'last_name': 'Shahaf', 'name': 'Ofir'}, '-NqarDpeKpzlBRNlS9Fd': {'courses': ['Comp Anan Kriya Phys Web Bina Graphic', 'Software Engineering'], 'email': 'julia.shbat@e.braude.ac.il', 'favorite_tv': 'mtv', 'last_name': 'Shbat', 'name': 'Julia'}}\n"
          ]
        }
      ],
      "source": [
        "import requests\n",
        "from firebase import firebase\n",
        "\n",
        "url = \"https://ex05-3f275-default-rtdb.europe-west1.firebasedatabase.app\"\n",
        "FBconn = firebase.FirebaseApplication(url,None)\n",
        "\n",
        "# Function to add student data to Realtime Database\n",
        "def add_student_data(name, last_name, email, courses, favorite_tv):\n",
        "    data = {\n",
        "        \"name\": name,\n",
        "        \"last_name\": last_name,\n",
        "        \"email\": email,\n",
        "        \"courses\": courses,\n",
        "        \"favorite_tv\": favorite_tv\n",
        "    }\n",
        "    result = FBconn.post('/myTest1/',data)\n",
        "\n",
        "\n",
        "# Sample data for 6 students\n",
        "students_data_to_add = [\n",
        "    {\n",
        "        'name': 'Yuval',\n",
        "        'last_name': 'Hilai',\n",
        "        'email': 'Yuval.Hilai@e.braude.ac.il',\n",
        "        'courses': ['Comp Anan Kriya Phys', 'Software Engineering'],\n",
        "        'favorite_tv': 'Sport 5'\n",
        "    },\n",
        "    {\n",
        "        'name': 'Matan',\n",
        "        'last_name': 'Nachmuha',\n",
        "        'email': 'Matan.Nachmuha@e.braude.ac.il',\n",
        "        'courses': ['Comp Anan Kriya Phys Web Bina', 'Software Engineering'],\n",
        "        'favorite_tv': 'reshet'\n",
        "    },\n",
        "    {\n",
        "        'name': 'Guy',\n",
        "        'last_name': 'Banbo',\n",
        "        'email': 'Gay.Banbo@e.braude.ac.il',\n",
        "        'courses': ['Comp Anan Bina crypto', 'Software Engineering'],\n",
        "        'favorite_tv': 'keshet'\n",
        "    },\n",
        "    {\n",
        "        'name': 'Elior',\n",
        "        'last_name': 'Malik',\n",
        "        'email': 'elior.malik@e.braude.ac.il',\n",
        "        'courses': ['Comp Anan Kriya Phys Web Bina', 'Software Engineering'],\n",
        "        'favorite_tv': 'sport 5'\n",
        "    },\n",
        "    {\n",
        "        'name': 'Ofir',\n",
        "        'last_name': 'Shahaf',\n",
        "        'email': 'ofir.shahaf@e.braude.ac.il',\n",
        "        'courses': ['Comp Anan Kriya Phys Web Bina', 'Software Engineering'],\n",
        "        'favorite_tv': 'kan'\n",
        "    },\n",
        "    {\n",
        "        'name': 'Julia',\n",
        "        'last_name': 'Shbat',\n",
        "        'email': 'julia.shbat@e.braude.ac.il',\n",
        "        'courses': ['Comp Anan Kriya Phys Web Bina Graphic', 'Software Engineering'],\n",
        "        'favorite_tv': 'mtv'\n",
        "    }\n",
        "]\n",
        "\n",
        "def read_students():\n",
        "    result = FBconn.get('/myTest1', None)\n",
        "    print(result)\n",
        "\n",
        "\n",
        "# Add data for each additional student\n",
        "for student_data in students_data_to_add:\n",
        "    add_student_data(**student_data)\n",
        "\n",
        "read_students()\n",
        "\n"
      ]
    },
    {
      "cell_type": "code",
      "source": [
        "\n"
      ],
      "metadata": {
        "id": "-vLI6layu6eP"
      },
      "execution_count": null,
      "outputs": []
    },
    {
      "cell_type": "code",
      "source": [
        "!pip install firebase"
      ],
      "metadata": {
        "colab": {
          "base_uri": "https://localhost:8080/"
        },
        "id": "TQq-aSUlsQAE",
        "outputId": "181d7bdc-b82d-4fe8-c805-a3554fb4a569"
      },
      "execution_count": 1,
      "outputs": [
        {
          "output_type": "stream",
          "name": "stdout",
          "text": [
            "Collecting firebase\n",
            "  Downloading firebase-4.0.1-py3-none-any.whl (12 kB)\n",
            "Requirement already satisfied: requests in /usr/local/lib/python3.10/dist-packages (from firebase) (2.31.0)\n",
            "Requirement already satisfied: charset-normalizer<4,>=2 in /usr/local/lib/python3.10/dist-packages (from requests->firebase) (3.3.2)\n",
            "Requirement already satisfied: idna<4,>=2.5 in /usr/local/lib/python3.10/dist-packages (from requests->firebase) (3.6)\n",
            "Requirement already satisfied: urllib3<3,>=1.21.1 in /usr/local/lib/python3.10/dist-packages (from requests->firebase) (2.0.7)\n",
            "Requirement already satisfied: certifi>=2017.4.17 in /usr/local/lib/python3.10/dist-packages (from requests->firebase) (2024.2.2)\n",
            "Installing collected packages: firebase\n",
            "Successfully installed firebase-4.0.1\n"
          ]
        }
      ]
    }
  ]
}