{
  "nbformat": 4,
  "nbformat_minor": 0,
  "metadata": {
    "colab": {
      "provenance": [],
      "include_colab_link": true
    },
    "kernelspec": {
      "name": "python3",
      "display_name": "Python 3"
    },
    "language_info": {
      "name": "python"
    }
  },
  "cells": [
    {
      "cell_type": "markdown",
      "metadata": {
        "id": "view-in-github",
        "colab_type": "text"
      },
      "source": [
        "<a href=\"https://colab.research.google.com/github/guybanbo/Cloud-computing-exercises/blob/main/ex06/ex06.ipynb\" target=\"_parent\"><img src=\"https://colab.research.google.com/assets/colab-badge.svg\" alt=\"Open In Colab\"/></a>"
      ]
    },
    {
      "cell_type": "code",
      "execution_count": null,
      "metadata": {
        "colab": {
          "base_uri": "https://localhost:8080/"
        },
        "id": "eNHYhixR1txL",
        "outputId": "dd9fa8b2-026a-4e55-eb90-d43fdf00d8f3"
      },
      "outputs": [
        {
          "output_type": "stream",
          "name": "stdout",
          "text": [
            "Requirement already satisfied: requests in /usr/local/lib/python3.10/dist-packages (2.31.0)\n",
            "Requirement already satisfied: beautifulsoup4 in /usr/local/lib/python3.10/dist-packages (4.12.3)\n",
            "Requirement already satisfied: charset-normalizer<4,>=2 in /usr/local/lib/python3.10/dist-packages (from requests) (3.3.2)\n",
            "Requirement already satisfied: idna<4,>=2.5 in /usr/local/lib/python3.10/dist-packages (from requests) (3.6)\n",
            "Requirement already satisfied: urllib3<3,>=1.21.1 in /usr/local/lib/python3.10/dist-packages (from requests) (2.0.7)\n",
            "Requirement already satisfied: certifi>=2017.4.17 in /usr/local/lib/python3.10/dist-packages (from requests) (2024.2.2)\n",
            "Requirement already satisfied: soupsieve>1.2 in /usr/local/lib/python3.10/dist-packages (from beautifulsoup4) (2.5)\n"
          ]
        }
      ],
      "source": [
        "\n",
        "import requests\n",
        "from firebase import firebase\n",
        "from bs4 import BeautifulSoup\n",
        "\n",
        "\n",
        "def fetch_page(url):\n",
        "  response = requests.get(url)\n",
        "  if response.status_code == 200:\n",
        "   soup = BeautifulSoup(response.text, 'html.parser')\n",
        "   return soup\n",
        "  else:\n",
        "    return None\n"
      ]
    },
    {
      "cell_type": "code",
      "source": [
        "!pip install requests\n",
        "!pip install beautifulsoup4\n",
        "!pip install firebase\n"
      ],
      "metadata": {
        "colab": {
          "base_uri": "https://localhost:8080/"
        },
        "id": "IoUO6mYNCwYS",
        "outputId": "285187bd-e999-4e98-f60a-6ccaca983d7a"
      },
      "execution_count": 1,
      "outputs": [
        {
          "output_type": "stream",
          "name": "stdout",
          "text": [
            "Requirement already satisfied: requests in /usr/local/lib/python3.10/dist-packages (2.31.0)\n",
            "Requirement already satisfied: charset-normalizer<4,>=2 in /usr/local/lib/python3.10/dist-packages (from requests) (3.3.2)\n",
            "Requirement already satisfied: idna<4,>=2.5 in /usr/local/lib/python3.10/dist-packages (from requests) (3.6)\n",
            "Requirement already satisfied: urllib3<3,>=1.21.1 in /usr/local/lib/python3.10/dist-packages (from requests) (2.0.7)\n",
            "Requirement already satisfied: certifi>=2017.4.17 in /usr/local/lib/python3.10/dist-packages (from requests) (2024.2.2)\n",
            "Requirement already satisfied: beautifulsoup4 in /usr/local/lib/python3.10/dist-packages (4.12.3)\n",
            "Requirement already satisfied: soupsieve>1.2 in /usr/local/lib/python3.10/dist-packages (from beautifulsoup4) (2.5)\n",
            "Collecting firebase\n",
            "  Downloading firebase-4.0.1-py3-none-any.whl (12 kB)\n",
            "Requirement already satisfied: requests in /usr/local/lib/python3.10/dist-packages (from firebase) (2.31.0)\n",
            "Requirement already satisfied: charset-normalizer<4,>=2 in /usr/local/lib/python3.10/dist-packages (from requests->firebase) (3.3.2)\n",
            "Requirement already satisfied: idna<4,>=2.5 in /usr/local/lib/python3.10/dist-packages (from requests->firebase) (3.6)\n",
            "Requirement already satisfied: urllib3<3,>=1.21.1 in /usr/local/lib/python3.10/dist-packages (from requests->firebase) (2.0.7)\n",
            "Requirement already satisfied: certifi>=2017.4.17 in /usr/local/lib/python3.10/dist-packages (from requests->firebase) (2024.2.2)\n",
            "Installing collected packages: firebase\n",
            "Successfully installed firebase-4.0.1\n"
          ]
        }
      ]
    },
    {
      "cell_type": "code",
      "source": [
        "\n",
        "import requests\n",
        "from firebase import firebase\n",
        "from bs4 import BeautifulSoup\n",
        "from collections import defaultdict\n",
        "import json\n",
        "import matplotlib.pyplot as plt\n",
        "\n",
        "from urllib.parse import urljoin, urlparse\n",
        "\n",
        "# Function to crawl a URL up to a certain depth\n",
        "def crawl(url, max_depth, depth=1, visited=None):\n",
        "    if visited is None:\n",
        "        visited = set()\n",
        "\n",
        "    if depth > max_depth:\n",
        "        return []\n",
        "\n",
        "    if url in visited:\n",
        "        return []\n",
        "\n",
        "    visited.add(url)\n",
        "\n",
        "    links = []\n",
        "\n",
        "    try:\n",
        "        # Fetch the page content\n",
        "        response = requests.get(url)\n",
        "        response.raise_for_status()\n",
        "\n",
        "        # Parse HTML\n",
        "        soup = BeautifulSoup(response.text, 'html.parser')\n",
        "\n",
        "        # Extract meta description\n",
        "        meta_description = soup.find('meta', {'name': 'description'})\n",
        "        description = meta_description['content'] if meta_description else None\n",
        "\n",
        "        # Extract title\n",
        "        title_tag = soup.find('title')\n",
        "        title = title_tag.text if title_tag else None\n",
        "\n",
        "\n",
        "        # Extract links\n",
        "        for link in soup.find_all('a', href=True):\n",
        "            href = link['href']\n",
        "            parsed_href = urlparse(href)\n",
        "            domain=parsed_href.netloc\n",
        "            if parsed_href.scheme and domain and (domain.endswith('.alibabacloud.com') or domain == 'alibabacloud.com'):  # Check if it's a valid URL\n",
        "                absolute_url = urljoin(url, href)\n",
        "                if absolute_url not in visited and absolute_url not in links:  # Check if the URL has not been visited before, added and condition for duplicates\n",
        "                    links.append(absolute_url)\n",
        "                    links.extend(crawl(absolute_url, max_depth, depth + 1, visited))\n",
        "\n",
        "    except Exception as e:\n",
        "        print(\"Error crawling {}: {}\".format(url, e))\n",
        "\n",
        "    return links\n",
        "\n",
        "import re\n",
        "\n",
        "\n",
        "\n",
        "def is_word(text):\n",
        "    # Customize this function to define your criteria for a \"word\"\n",
        "    # For example, you could check for alphabetic characters or length\n",
        "    return text.isalpha() and len(text) > 2\n",
        "\n",
        "def index_words(soup):\n",
        "    index = {}\n",
        "    words = []\n",
        "    #pattern = re.compile(r'<[hp][1-6]>(.*?)<\\/[hp][1-6]>', re.DOTALL)\n",
        "    #matches = pattern.findall(soup.get_text())\n",
        "    #words = re.findall(r\"<(h\\d|p)>(?:\\s*(?!<(h\\d|p)>|</(h\\d|p)>)\\w+\\b)+(?:\\s*)</\\1>\", soup.get_text())\n",
        "    for tag in soup.find_all([\"h1\", \"h2\",\"h3\", \"h4\", \"h5\", \"h6\", \"p\", \"span\"]):\n",
        "      words.extend(filter(is_word, tag.text.split()))\n",
        "\n",
        "\n",
        "    #for tag, content in matches:\n",
        "      #words.append(content.strip())\n",
        "    for word in words:\n",
        "        word = word.lower()\n",
        "        if word in index:\n",
        "            index[word] += 1\n",
        "        else:\n",
        "            index[word] = 1\n",
        "    return index\n",
        "\n",
        "def remove_stop_words(index):\n",
        "    stop_words = {'a', 'an', 'the', 'and', 'or', 'in', 'on', 'at'}\n",
        "    for stop_word in stop_words:\n",
        "        if stop_word in index:\n",
        "            del index[stop_word]\n",
        "    return index\n",
        "\n",
        "from nltk.stem import PorterStemmer\n",
        "\n",
        "def apply_stemming(index):\n",
        "    stemmer = PorterStemmer()\n",
        "    stemmed_index = {}\n",
        "    for word, docs in index.items():\n",
        "        stemmed_word = stemmer.stem(word)\n",
        "        if stemmed_word in stemmed_index:\n",
        "          stemmed_index[stemmed_word] = list(set(stemmed_index[stemmed_word] + docs))\n",
        "        else:\n",
        "          stemmed_index[stemmed_word] = docs\n",
        "    return stemmed_index\n",
        "\n",
        "\n",
        "\n",
        "def links_enrichment (links):\n",
        "  meta=[]\n",
        "  for link in links:\n",
        "    try:\n",
        "        # Fetch the page content\n",
        "        response = requests.get(link)\n",
        "        response.raise_for_status()\n",
        "\n",
        "        # Parse HTML\n",
        "        soup = BeautifulSoup(response.text, 'html.parser')\n",
        "\n",
        "        # Extract meta description\n",
        "        meta_description = soup.find('meta', {'name': 'description'})\n",
        "        description = meta_description['content'] if meta_description else None\n",
        "\n",
        "        # Extract title\n",
        "        title_tag = soup.find('title')\n",
        "        title = title_tag.text if title_tag else None\n",
        "\n",
        "        meta.append( {\"link\" : link,\n",
        "                \"title\" : title,\n",
        "                \"description\" : description} )\n",
        "    except Exception as e:\n",
        "        meta.append( {\"link\" : link,\n",
        "                \"title\" : None,\n",
        "                \"description\" : None})\n",
        "        print(e)\n",
        "  return meta\n",
        "\n",
        "\n",
        "def create_index(links):\n",
        "    dictionary=[\"cloud\", \"web\", \"software\", \"infrastructure\", \"saas\", \"iaas\", \"paas\", \"server\",  \"system\", \"platform\"]\n",
        "    word_index = {}\n",
        "    for id,data in links.items():\n",
        "      # Fetch the page content\n",
        "      try:\n",
        "        response = requests.get(data)\n",
        "        response.raise_for_status()\n",
        "\n",
        "       # Parse HTML\n",
        "        soup = BeautifulSoup(response.text, 'html.parser')\n",
        "        words = index_words(soup)\n",
        "        for word in words:\n",
        "          if word in dictionary:\n",
        "         # Append the link(id) to the list of links for each word\n",
        "            word_index.setdefault(word, []).append(id)\n",
        "      except Exception as e:\n",
        "          print(\"Error INDEXING {}: {}\".format(data, e))\n",
        "    return word_index\n",
        "\n",
        "\n",
        "\n",
        "\n",
        "\n",
        "# Start crawling from the root URL\n",
        "root_url = \"https://www.alibabacloud.com/\"\n",
        "max_depth = 1\n",
        "crawled_links = crawl(root_url, max_depth)\n",
        "#links = links_enrichment(crawled_links)\n",
        "url = \"https://ex06-24336-default-rtdb.europe-west1.firebasedatabase.app/\"\n",
        "FBconn = firebase.FirebaseApplication(url,None)\n",
        "for link in crawled_links:\n",
        "  FBconn.post('/pages/',link)\n",
        "result = FBconn.get('/pages', None)\n",
        "index = create_index(result)\n",
        "stemmed_Index=apply_stemming(index)\n",
        "for term,DocIDs in stemmed_Index.items():\n",
        "  data = {\"term\":term, \"DocIDs\": DocIDs}\n",
        "  print(data)\n",
        "  FBconn.post('/index/',data)\n",
        "x=[]\n",
        "y=[]\n",
        "for term,DocIDs in stemmed_Index.items():\n",
        "  x.append(term)\n",
        "  y.append(len(DocIDs))\n",
        "\n",
        "# Colors: https://matplotlib.org/api/colors_api.html\n",
        "\n",
        "plt.bar(x, y, label=\"Blue Bar\", color='b')\n",
        "plt.plot()\n",
        "\n",
        "plt.xlabel(\"term\")\n",
        "plt.ylabel(\"frequency\")\n",
        "plt.title(\"word frequencies\")\n",
        "plt.legend()\n",
        "plt.show()\n",
        "\n",
        "\n",
        "#url = \"https://search-engine-568ee-default-rtdb.europe-west1.firebasedatabase.app\"\n",
        "\n",
        "\n",
        "\n",
        "\n",
        "\n",
        "\n"
      ],
      "metadata": {
        "colab": {
          "base_uri": "https://localhost:8080/",
          "height": 683
        },
        "id": "oe0LWDi0GAXy",
        "outputId": "abb05083-41fa-44f8-8995-35c3e0443b25"
      },
      "execution_count": 3,
      "outputs": [
        {
          "output_type": "stream",
          "name": "stdout",
          "text": [
            "Error INDEXING https://www.alibabacloud.com/forum: ('Connection aborted.', RemoteDisconnected('Remote end closed connection without response'))\n",
            "{'term': 'cloud', 'DocIDs': ['-NrkTFaf8zmnO17il21z', '-NrkTFgFqG16xOmPfdJs', '-NrkTFlqcRuFWEPKaPDw', '-NrkTFrQ4msuA7D7zXsf', '-NrkTG6AILAULyekNAsc', '-NrkTGCMsDUzQcVZAqDE', '-NrkTGS8gNpwf0Ot1iKa', '-NrkTGXjzJIeL0xeQot9', '-NrkTGrxD0jACJPuLdIc', '-NrkTH6e3NUI1IZhu63Z', '-NrkTHNWptMRvl-tGhiK', '-NrkTHTDM5t5J2TcndBW', '-NrkTHYocBH5oP8sUpMR', '-NrkTHdRdIwFw93XpTVf', '-NrkTHj1Swm_OT4ISSHY', '-NrkTHyoA8kgRjEmCSYG', '-NrkTI3O2Vxm_lG82Wv4', '-NrkTIJ8XT7Sg3U0si2B', '-NrkTIOkzxZN833v3LNq', '-NrkTIUUiR8KT-Zpa9K4', '-NrkTI_4TK4Gy2Va2_ko', '-NrkTIehF7EMPxLDjCOr', '-NrkTIkHzu3DblMeaagJ', '-NrkTIpp_TlMwc1DNKK8', '-NrkTJ4ZIapAXfy6pMhp', '-NrkTJAiacEAHbsWC2bu', '-NrkTJGjR52XvvLcUVgE', '-NrkTKGz-b3BA5GnXisQ', '-NrkTKMcgmsaT-1lAPXz', '-NrkTKSEouFusRpSsvLE', '-NrkTKXoesHEvZeBdYKw', '-NrkTKhxnKGX4L8BErDH', '-NrkTKnYaPrzyiJN9ddK', '-NrkTKt9CHMW6xTayZb0', '-NrkTL7vkMGpDoo5QnmR', '-NrkTLDVirSPGsz_ej5X', '-NrkTLJ82M-bl4tL3WgQ', '-NrkTLYoMh0uj-nUCpbE', '-NrkTLjYgkMOkxSeZwLX', '-NrkTLvvRn2RRP9RvqNS', '-NrkTM16_-vQhX64jVuY', '-NrkTM7L1e06d2m5fPqf', '-NrkTMCvyMKYHDXrMxa1', '-NrkTMIVHwgrbCrmVXvN', '-NrkTMYEiXik4ySXHaqM', '-NrkTMcq3s3zCJKc8SDT', '-NrkTMiQ2O_0fAmpQIzi', '-NrkTMo1gNjRk6Jab4RO', '-NrkTMuP-haONoOErIAY', '-NrkTN-2q-HgntyjrlCA', '-NrkTN4b0fN5Dg7Giebf', '-NrkTNAFuZA0FbDNODhP', '-NrkTNFqZ8q0TuizcMHt', '-NrkTNLP6CTyf-LDV59i', '-NrkTNa6IHFdorKITXoi', '-NrkTNfrK8KMxpLms820', '-NrkTNlRah5nDPPjfdY6', '-NrkTNqz9xr746lmnqr_', '-NrkTNwaHWJc69zcGaux', '-NrkTO1CNH6Wr8PL4nav', '-NrkTO6kdIaOk4u75QVt', '-NrkTOMTA1i2TuUCUNXt', '-NrkTOS1LtkX26zpL17l', '-NrkTOgi1EYFcNx9NzUB', '-NrkTOmpCx9c5vrqdtIu', '-NrkTOt-N84VcSwXG9VX', '-NrkTOz-zuNhKVsW_B_V', '-NrkTP3cbuZ9mxSlOFqh', '-NrkTP9GvxYWlYvGmsSG', '-NrkTPOzyxHgxvMc-5dl', '-NrkTPdk6881bFWToeOj', '-NrkTPjOIR5Akt74xk3i', '-NrkTPovaGsmbBUxACr_', '-NrkTPuenGw3lkELFTgK', '-NrkTQ-Mh-2_4pjRgOXF', '-NrkTQ4wmhQ9YnfkDJwI', '-NrkTQAWz8a1qgx1uJbM', '-NrkTQG63qOdXs44f9ng', '-NrkTQVnO0UwbGQJe2k8']}\n",
            "{'term': 'web', 'DocIDs': ['-NrkTFaf8zmnO17il21z', '-NrkTFgFqG16xOmPfdJs', '-NrkTFlqcRuFWEPKaPDw', '-NrkTFrQ4msuA7D7zXsf', '-NrkTG6AILAULyekNAsc', '-NrkTGCMsDUzQcVZAqDE', '-NrkTGS8gNpwf0Ot1iKa', '-NrkTGXjzJIeL0xeQot9', '-NrkTGrxD0jACJPuLdIc', '-NrkTH6e3NUI1IZhu63Z', '-NrkTHNWptMRvl-tGhiK', '-NrkTHTDM5t5J2TcndBW', '-NrkTHYocBH5oP8sUpMR', '-NrkTHdRdIwFw93XpTVf', '-NrkTHj1Swm_OT4ISSHY', '-NrkTHyoA8kgRjEmCSYG', '-NrkTI3O2Vxm_lG82Wv4', '-NrkTIJ8XT7Sg3U0si2B', '-NrkTIOkzxZN833v3LNq', '-NrkTIUUiR8KT-Zpa9K4', '-NrkTI_4TK4Gy2Va2_ko', '-NrkTIehF7EMPxLDjCOr', '-NrkTIkHzu3DblMeaagJ', '-NrkTJAiacEAHbsWC2bu', '-NrkTJGjR52XvvLcUVgE', '-NrkTKGz-b3BA5GnXisQ', '-NrkTKMcgmsaT-1lAPXz', '-NrkTKSEouFusRpSsvLE', '-NrkTKXoesHEvZeBdYKw', '-NrkTKhxnKGX4L8BErDH', '-NrkTKnYaPrzyiJN9ddK', '-NrkTKt9CHMW6xTayZb0', '-NrkTL7vkMGpDoo5QnmR', '-NrkTLDVirSPGsz_ej5X', '-NrkTLJ82M-bl4tL3WgQ', '-NrkTLYoMh0uj-nUCpbE', '-NrkTLjYgkMOkxSeZwLX', '-NrkTLvvRn2RRP9RvqNS', '-NrkTM16_-vQhX64jVuY', '-NrkTM7L1e06d2m5fPqf', '-NrkTMCvyMKYHDXrMxa1', '-NrkTMIVHwgrbCrmVXvN', '-NrkTMYEiXik4ySXHaqM', '-NrkTMcq3s3zCJKc8SDT', '-NrkTMiQ2O_0fAmpQIzi', '-NrkTMo1gNjRk6Jab4RO', '-NrkTMuP-haONoOErIAY', '-NrkTN-2q-HgntyjrlCA', '-NrkTN4b0fN5Dg7Giebf', '-NrkTNAFuZA0FbDNODhP', '-NrkTNFqZ8q0TuizcMHt', '-NrkTNLP6CTyf-LDV59i', '-NrkTNa6IHFdorKITXoi', '-NrkTNfrK8KMxpLms820', '-NrkTNlRah5nDPPjfdY6', '-NrkTNqz9xr746lmnqr_', '-NrkTNwaHWJc69zcGaux', '-NrkTO1CNH6Wr8PL4nav', '-NrkTO6kdIaOk4u75QVt', '-NrkTOMTA1i2TuUCUNXt', '-NrkTOS1LtkX26zpL17l', '-NrkTOgi1EYFcNx9NzUB', '-NrkTOmpCx9c5vrqdtIu', '-NrkTOt-N84VcSwXG9VX', '-NrkTOz-zuNhKVsW_B_V', '-NrkTP3cbuZ9mxSlOFqh', '-NrkTP9GvxYWlYvGmsSG', '-NrkTPOzyxHgxvMc-5dl', '-NrkTPdk6881bFWToeOj', '-NrkTPjOIR5Akt74xk3i', '-NrkTPovaGsmbBUxACr_', '-NrkTPuenGw3lkELFTgK', '-NrkTQ-Mh-2_4pjRgOXF', '-NrkTQ4wmhQ9YnfkDJwI', '-NrkTQG63qOdXs44f9ng', '-NrkTQVnO0UwbGQJe2k8']}\n",
            "{'term': 'softwar', 'DocIDs': ['-NrkTFaf8zmnO17il21z', '-NrkTFgFqG16xOmPfdJs', '-NrkTFlqcRuFWEPKaPDw', '-NrkTFrQ4msuA7D7zXsf', '-NrkTG6AILAULyekNAsc', '-NrkTGCMsDUzQcVZAqDE', '-NrkTGS8gNpwf0Ot1iKa', '-NrkTGXjzJIeL0xeQot9', '-NrkTGrxD0jACJPuLdIc', '-NrkTH6e3NUI1IZhu63Z', '-NrkTHNWptMRvl-tGhiK', '-NrkTHTDM5t5J2TcndBW', '-NrkTHYocBH5oP8sUpMR', '-NrkTHdRdIwFw93XpTVf', '-NrkTHj1Swm_OT4ISSHY', '-NrkTHyoA8kgRjEmCSYG', '-NrkTI3O2Vxm_lG82Wv4', '-NrkTIJ8XT7Sg3U0si2B', '-NrkTIOkzxZN833v3LNq', '-NrkTIUUiR8KT-Zpa9K4', '-NrkTI_4TK4Gy2Va2_ko', '-NrkTIehF7EMPxLDjCOr', '-NrkTIkHzu3DblMeaagJ', '-NrkTJAiacEAHbsWC2bu', '-NrkTJGjR52XvvLcUVgE', '-NrkTKGz-b3BA5GnXisQ', '-NrkTKMcgmsaT-1lAPXz', '-NrkTKSEouFusRpSsvLE', '-NrkTKXoesHEvZeBdYKw', '-NrkTKhxnKGX4L8BErDH', '-NrkTKnYaPrzyiJN9ddK', '-NrkTKt9CHMW6xTayZb0', '-NrkTL7vkMGpDoo5QnmR', '-NrkTLDVirSPGsz_ej5X', '-NrkTLJ82M-bl4tL3WgQ', '-NrkTLYoMh0uj-nUCpbE', '-NrkTLjYgkMOkxSeZwLX', '-NrkTLvvRn2RRP9RvqNS', '-NrkTM16_-vQhX64jVuY', '-NrkTM7L1e06d2m5fPqf', '-NrkTMCvyMKYHDXrMxa1', '-NrkTMIVHwgrbCrmVXvN', '-NrkTMYEiXik4ySXHaqM', '-NrkTMcq3s3zCJKc8SDT', '-NrkTMiQ2O_0fAmpQIzi', '-NrkTMo1gNjRk6Jab4RO', '-NrkTMuP-haONoOErIAY', '-NrkTN-2q-HgntyjrlCA', '-NrkTN4b0fN5Dg7Giebf', '-NrkTNAFuZA0FbDNODhP', '-NrkTNFqZ8q0TuizcMHt', '-NrkTNLP6CTyf-LDV59i', '-NrkTNa6IHFdorKITXoi', '-NrkTNfrK8KMxpLms820', '-NrkTNlRah5nDPPjfdY6', '-NrkTNqz9xr746lmnqr_', '-NrkTNwaHWJc69zcGaux', '-NrkTO1CNH6Wr8PL4nav', '-NrkTO6kdIaOk4u75QVt', '-NrkTOMTA1i2TuUCUNXt', '-NrkTOS1LtkX26zpL17l', '-NrkTOgi1EYFcNx9NzUB', '-NrkTOmpCx9c5vrqdtIu', '-NrkTOt-N84VcSwXG9VX', '-NrkTOz-zuNhKVsW_B_V', '-NrkTP3cbuZ9mxSlOFqh', '-NrkTP9GvxYWlYvGmsSG', '-NrkTPOzyxHgxvMc-5dl', '-NrkTPdk6881bFWToeOj', '-NrkTPjOIR5Akt74xk3i', '-NrkTPovaGsmbBUxACr_', '-NrkTPuenGw3lkELFTgK', '-NrkTQ-Mh-2_4pjRgOXF', '-NrkTQ4wmhQ9YnfkDJwI', '-NrkTQG63qOdXs44f9ng', '-NrkTQVnO0UwbGQJe2k8']}\n",
            "{'term': 'infrastructur', 'DocIDs': ['-NrkTFaf8zmnO17il21z', '-NrkTFgFqG16xOmPfdJs', '-NrkTFlqcRuFWEPKaPDw', '-NrkTFrQ4msuA7D7zXsf', '-NrkTG6AILAULyekNAsc', '-NrkTGCMsDUzQcVZAqDE', '-NrkTGS8gNpwf0Ot1iKa', '-NrkTGXjzJIeL0xeQot9', '-NrkTGrxD0jACJPuLdIc', '-NrkTHNWptMRvl-tGhiK', '-NrkTHTDM5t5J2TcndBW', '-NrkTHYocBH5oP8sUpMR', '-NrkTHdRdIwFw93XpTVf', '-NrkTHj1Swm_OT4ISSHY', '-NrkTHyoA8kgRjEmCSYG', '-NrkTI3O2Vxm_lG82Wv4', '-NrkTIJ8XT7Sg3U0si2B', '-NrkTIOkzxZN833v3LNq', '-NrkTIUUiR8KT-Zpa9K4', '-NrkTI_4TK4Gy2Va2_ko', '-NrkTIehF7EMPxLDjCOr', '-NrkTIkHzu3DblMeaagJ', '-NrkTJAiacEAHbsWC2bu', '-NrkTJGjR52XvvLcUVgE', '-NrkTKGz-b3BA5GnXisQ', '-NrkTKMcgmsaT-1lAPXz', '-NrkTKSEouFusRpSsvLE', '-NrkTKXoesHEvZeBdYKw', '-NrkTKhxnKGX4L8BErDH', '-NrkTKnYaPrzyiJN9ddK', '-NrkTKt9CHMW6xTayZb0', '-NrkTL7vkMGpDoo5QnmR', '-NrkTLDVirSPGsz_ej5X', '-NrkTLJ82M-bl4tL3WgQ', '-NrkTLYoMh0uj-nUCpbE', '-NrkTLjYgkMOkxSeZwLX', '-NrkTLvvRn2RRP9RvqNS', '-NrkTM16_-vQhX64jVuY', '-NrkTM7L1e06d2m5fPqf', '-NrkTMCvyMKYHDXrMxa1', '-NrkTMIVHwgrbCrmVXvN', '-NrkTMYEiXik4ySXHaqM', '-NrkTMcq3s3zCJKc8SDT', '-NrkTMiQ2O_0fAmpQIzi', '-NrkTMo1gNjRk6Jab4RO', '-NrkTMuP-haONoOErIAY', '-NrkTN-2q-HgntyjrlCA', '-NrkTN4b0fN5Dg7Giebf', '-NrkTNAFuZA0FbDNODhP', '-NrkTNFqZ8q0TuizcMHt', '-NrkTNLP6CTyf-LDV59i', '-NrkTNa6IHFdorKITXoi', '-NrkTNfrK8KMxpLms820', '-NrkTNlRah5nDPPjfdY6', '-NrkTNqz9xr746lmnqr_', '-NrkTNwaHWJc69zcGaux', '-NrkTO1CNH6Wr8PL4nav', '-NrkTO6kdIaOk4u75QVt', '-NrkTOMTA1i2TuUCUNXt', '-NrkTOS1LtkX26zpL17l', '-NrkTOgi1EYFcNx9NzUB', '-NrkTOmpCx9c5vrqdtIu', '-NrkTOt-N84VcSwXG9VX', '-NrkTOz-zuNhKVsW_B_V', '-NrkTP3cbuZ9mxSlOFqh', '-NrkTP9GvxYWlYvGmsSG', '-NrkTPOzyxHgxvMc-5dl', '-NrkTPdk6881bFWToeOj', '-NrkTPjOIR5Akt74xk3i', '-NrkTPovaGsmbBUxACr_', '-NrkTPuenGw3lkELFTgK', '-NrkTQ-Mh-2_4pjRgOXF', '-NrkTQG63qOdXs44f9ng', '-NrkTQVnO0UwbGQJe2k8']}\n",
            "{'term': 'system', 'DocIDs': ['-NrkTFgFqG16xOmPfdJs', '-NrkTFlqcRuFWEPKaPDw', '-NrkTG6AILAULyekNAsc', '-NrkTGCMsDUzQcVZAqDE', '-NrkTH6e3NUI1IZhu63Z', '-NrkTHNWptMRvl-tGhiK', '-NrkTHj1Swm_OT4ISSHY', '-NrkTIUUiR8KT-Zpa9K4', '-NrkTI_4TK4Gy2Va2_ko', '-NrkTIpp_TlMwc1DNKK8', '-NrkTKnYaPrzyiJN9ddK', '-NrkTLDVirSPGsz_ej5X', '-NrkTLJ82M-bl4tL3WgQ', '-NrkTM16_-vQhX64jVuY', '-NrkTM7L1e06d2m5fPqf', '-NrkTMIVHwgrbCrmVXvN', '-NrkTMYEiXik4ySXHaqM', '-NrkTMiQ2O_0fAmpQIzi', '-NrkTMo1gNjRk6Jab4RO']}\n",
            "{'term': 'server', 'DocIDs': ['-NrkTFlqcRuFWEPKaPDw', '-NrkTH6e3NUI1IZhu63Z', '-NrkTHj1Swm_OT4ISSHY', '-NrkTIUUiR8KT-Zpa9K4', '-NrkTIehF7EMPxLDjCOr', '-NrkTIpp_TlMwc1DNKK8', '-NrkTKSEouFusRpSsvLE', '-NrkTKnYaPrzyiJN9ddK', '-NrkTL7vkMGpDoo5QnmR', '-NrkTLjYgkMOkxSeZwLX', '-NrkTM16_-vQhX64jVuY', '-NrkTM7L1e06d2m5fPqf', '-NrkTMCvyMKYHDXrMxa1', '-NrkTMIVHwgrbCrmVXvN', '-NrkTMYEiXik4ySXHaqM', '-NrkTMcq3s3zCJKc8SDT', '-NrkTMiQ2O_0fAmpQIzi', '-NrkTMo1gNjRk6Jab4RO']}\n",
            "{'term': 'platform', 'DocIDs': ['-NrkTFlqcRuFWEPKaPDw', '-NrkTFrQ4msuA7D7zXsf', '-NrkTGCMsDUzQcVZAqDE', '-NrkTGS8gNpwf0Ot1iKa', '-NrkTH6e3NUI1IZhu63Z', '-NrkTHNWptMRvl-tGhiK', '-NrkTHj1Swm_OT4ISSHY', '-NrkTI_4TK4Gy2Va2_ko', '-NrkTIehF7EMPxLDjCOr', '-NrkTJ4ZIapAXfy6pMhp', '-NrkTKhxnKGX4L8BErDH', '-NrkTKnYaPrzyiJN9ddK', '-NrkTKt9CHMW6xTayZb0', '-NrkTL7vkMGpDoo5QnmR', '-NrkTLJ82M-bl4tL3WgQ', '-NrkTLYoMh0uj-nUCpbE', '-NrkTLvvRn2RRP9RvqNS', '-NrkTM16_-vQhX64jVuY', '-NrkTQ4wmhQ9YnfkDJwI']}\n",
            "{'term': 'iaa', 'DocIDs': ['-NrkTFlqcRuFWEPKaPDw', '-NrkTG6AILAULyekNAsc', '-NrkTHj1Swm_OT4ISSHY', '-NrkTMCvyMKYHDXrMxa1']}\n",
            "{'term': 'saa', 'DocIDs': ['-NrkTGXjzJIeL0xeQot9', '-NrkTH6e3NUI1IZhu63Z', '-NrkTHj1Swm_OT4ISSHY', '-NrkTMCvyMKYHDXrMxa1']}\n",
            "{'term': 'paa', 'DocIDs': ['-NrkTHj1Swm_OT4ISSHY', '-NrkTMCvyMKYHDXrMxa1']}\n"
          ]
        },
        {
          "output_type": "display_data",
          "data": {
            "text/plain": [
              "<Figure size 640x480 with 1 Axes>"
            ],
            "image/png": "[encoded data removed]"
          },
          "metadata": {}
        }
      ]
    },
    {
      "cell_type": "code",
      "source": [
        "from nltk.stem import PorterStemmer\n",
        "stemmer = PorterStemmer()\n",
        "stemmed_word = stemmer.stem(\"started\")\n",
        "print(stemmed_word)"
      ],
      "metadata": {
        "colab": {
          "base_uri": "https://localhost:8080/"
        },
        "id": "JMZi41H38Rbo",
        "outputId": "5e2262d1-e11c-4f7d-b6c8-292ff0d6455b"
      },
      "execution_count": null,
      "outputs": [
        {
          "output_type": "stream",
          "name": "stdout",
          "text": [
            "start\n"
          ]
        }
      ]
    },
    {
      "cell_type": "code",
      "source": [
        "from firebase import firebase\n",
        "\n"
      ],
      "metadata": {
        "id": "kjfA9hHBVxk-"
      },
      "execution_count": null,
      "outputs": []
    }
  ]
}